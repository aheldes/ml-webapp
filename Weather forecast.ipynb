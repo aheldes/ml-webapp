{
 "cells": [
  {
   "cell_type": "code",
   "execution_count": 22,
   "metadata": {},
   "outputs": [],
   "source": [
    "import requests\n",
    "from bs4 import BeautifulSoup\n",
    "import datetime"
   ]
  },
  {
   "cell_type": "code",
   "execution_count": 10,
   "metadata": {},
   "outputs": [],
   "source": [
    "class Icing():\n",
    "    url = 'https://freemeteo.cz/pocasi/mlada-boleslav/hodinova-predpoved/dnes/?gid=3070544&language=czech&country=czech-republic'\n",
    "    def __init__(self):\n",
    "        self.temp = None\n",
    "        self.wind = None\n",
    "        self.hum = None\n",
    "        self.dew = None\n",
    "        self.icing = False\n",
    "\n",
    "    def get_forecast(self):\n",
    "        soup = BeautifulSoup(requests.get(Icing.url).content, \"html.parser\")\n",
    "        table = soup.find(\"div\", class_ = \"today\").find('tbody')\n",
    "        results = dict()\n",
    "        for indx1, row in enumerate(table.find_all('tr')):\n",
    "            if indx1 in [2,4,5]:\n",
    "                cell = row.find_all('td')[1]\n",
    "                if indx1 == 2:\n",
    "                    self.temp = int(cell.text.replace('°C',''))\n",
    "                elif indx1 == 4:\n",
    "                    self.wind = int(cell.find(text=True, recursive=False).replace(' Km/h',''))\n",
    "                else:\n",
    "                    self.hum = int(cell.text.replace('%',''))\n",
    "\n",
    "    def calculate_dew(self):\n",
    "        self.dew = self.temp - ((100 - self.hum) / 5)\n",
    "\n",
    "    def check_icing(self):\n",
    "        if self.dew < 0 and self.wind > 15:\n",
    "            self.icing = True"
   ]
  },
  {
   "cell_type": "code",
   "execution_count": 11,
   "metadata": {},
   "outputs": [
    {
     "data": {
      "text/plain": [
       "False"
      ]
     },
     "execution_count": 11,
     "metadata": {},
     "output_type": "execute_result"
    }
   ],
   "source": [
    "icing = Icing()\n",
    "icing.get_forecast()\n",
    "icing.calculate_dew()\n",
    "icing.check_icing()\n",
    "icing.icing"
   ]
  },
  {
   "cell_type": "code",
   "execution_count": 28,
   "metadata": {},
   "outputs": [],
   "source": [
    "class IcingApi():\n",
    "    key = '7786e1769e4b18a984bbe2e0cfe41427'\n",
    "    lat = '50.4114'\n",
    "    long = '14.9032'\n",
    "    exclude = 'current,minutely,daily,alerts'\n",
    "    url = f'https://api.openweathermap.org/data/3.0/onecall?lat={lat}&lon={long}&exclude={exclude}&appid={key}&units=metric'\n",
    "\n",
    "    def __init__(self):\n",
    "        self.results = self._get_forecast()\n",
    "    \n",
    "    def _get_forecast(self):\n",
    "        r = requests.get(IcingApi.url)\n",
    "        return r.json()\n",
    "\n",
    "    def predict_icing(self):\n",
    "        prediction = []\n",
    "        for hour in self.results['hourly']:\n",
    "            icing = True if hour['dew_point'] < 0 and hour['wind_speed'] < 15 else False\n",
    "            prediction.append(\n",
    "                {'time': datetime.datetime.fromtimestamp(hour['dt']).isoformat(),\n",
    "                'icing': icing})\n",
    "        return prediction"
   ]
  },
  {
   "cell_type": "code",
   "execution_count": 29,
   "metadata": {},
   "outputs": [
    {
     "data": {
      "text/plain": [
       "[{'time': '2022-10-12T19:00:00', 'icing': False},\n",
       " {'time': '2022-10-12T20:00:00', 'icing': False},\n",
       " {'time': '2022-10-12T21:00:00', 'icing': False},\n",
       " {'time': '2022-10-12T22:00:00', 'icing': False},\n",
       " {'time': '2022-10-12T23:00:00', 'icing': False},\n",
       " {'time': '2022-10-13T00:00:00', 'icing': False},\n",
       " {'time': '2022-10-13T01:00:00', 'icing': False},\n",
       " {'time': '2022-10-13T02:00:00', 'icing': False},\n",
       " {'time': '2022-10-13T03:00:00', 'icing': False},\n",
       " {'time': '2022-10-13T04:00:00', 'icing': False},\n",
       " {'time': '2022-10-13T05:00:00', 'icing': False},\n",
       " {'time': '2022-10-13T06:00:00', 'icing': False},\n",
       " {'time': '2022-10-13T07:00:00', 'icing': False},\n",
       " {'time': '2022-10-13T08:00:00', 'icing': False},\n",
       " {'time': '2022-10-13T09:00:00', 'icing': False},\n",
       " {'time': '2022-10-13T10:00:00', 'icing': False},\n",
       " {'time': '2022-10-13T11:00:00', 'icing': False},\n",
       " {'time': '2022-10-13T12:00:00', 'icing': False},\n",
       " {'time': '2022-10-13T13:00:00', 'icing': False},\n",
       " {'time': '2022-10-13T14:00:00', 'icing': False},\n",
       " {'time': '2022-10-13T15:00:00', 'icing': False},\n",
       " {'time': '2022-10-13T16:00:00', 'icing': False},\n",
       " {'time': '2022-10-13T17:00:00', 'icing': False},\n",
       " {'time': '2022-10-13T18:00:00', 'icing': False},\n",
       " {'time': '2022-10-13T19:00:00', 'icing': False},\n",
       " {'time': '2022-10-13T20:00:00', 'icing': False},\n",
       " {'time': '2022-10-13T21:00:00', 'icing': False},\n",
       " {'time': '2022-10-13T22:00:00', 'icing': False},\n",
       " {'time': '2022-10-13T23:00:00', 'icing': False},\n",
       " {'time': '2022-10-14T00:00:00', 'icing': False},\n",
       " {'time': '2022-10-14T01:00:00', 'icing': False},\n",
       " {'time': '2022-10-14T02:00:00', 'icing': False},\n",
       " {'time': '2022-10-14T03:00:00', 'icing': False},\n",
       " {'time': '2022-10-14T04:00:00', 'icing': False},\n",
       " {'time': '2022-10-14T05:00:00', 'icing': False},\n",
       " {'time': '2022-10-14T06:00:00', 'icing': False},\n",
       " {'time': '2022-10-14T07:00:00', 'icing': False},\n",
       " {'time': '2022-10-14T08:00:00', 'icing': False},\n",
       " {'time': '2022-10-14T09:00:00', 'icing': False},\n",
       " {'time': '2022-10-14T10:00:00', 'icing': False},\n",
       " {'time': '2022-10-14T11:00:00', 'icing': False},\n",
       " {'time': '2022-10-14T12:00:00', 'icing': False},\n",
       " {'time': '2022-10-14T13:00:00', 'icing': False},\n",
       " {'time': '2022-10-14T14:00:00', 'icing': False},\n",
       " {'time': '2022-10-14T15:00:00', 'icing': False},\n",
       " {'time': '2022-10-14T16:00:00', 'icing': False},\n",
       " {'time': '2022-10-14T17:00:00', 'icing': False},\n",
       " {'time': '2022-10-14T18:00:00', 'icing': False}]"
      ]
     },
     "execution_count": 29,
     "metadata": {},
     "output_type": "execute_result"
    }
   ],
   "source": [
    "icing = IcingApi()\n",
    "icing.predict_icing()"
   ]
  }
 ],
 "metadata": {
  "kernelspec": {
   "display_name": "Python 3.9.12 ('base')",
   "language": "python",
   "name": "python3"
  },
  "language_info": {
   "codemirror_mode": {
    "name": "ipython",
    "version": 3
   },
   "file_extension": ".py",
   "mimetype": "text/x-python",
   "name": "python",
   "nbconvert_exporter": "python",
   "pygments_lexer": "ipython3",
   "version": "3.9.12"
  },
  "orig_nbformat": 4,
  "vscode": {
   "interpreter": {
    "hash": "a0002ca97fa5ee54dc2e4008fbe9eabec60bb4400642f4fca2bafe1dfe14f90e"
   }
  }
 },
 "nbformat": 4,
 "nbformat_minor": 2
}
